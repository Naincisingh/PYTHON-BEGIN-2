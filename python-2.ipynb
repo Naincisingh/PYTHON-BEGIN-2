{
 "cells": [
  {
   "cell_type": "code",
   "execution_count": 6,
   "id": "6e7d5318-b344-408d-bdb3-a151d47caa39",
   "metadata": {},
   "outputs": [
    {
     "name": "stdin",
     "output_type": "stream",
     "text": [
      "ënter a percentage 59\n"
     ]
    },
    {
     "name": "stdout",
     "output_type": "stream",
     "text": [
      "GRADE= B\n"
     ]
    }
   ],
   "source": [
    "\"\"\"QTS.1 \"\"\"\n",
    "\n",
    "perc= int(input(\"ënter a percentage\"))\n",
    "if perc>90:\n",
    "    print(\"GRADE= A\")\n",
    "elif perc>80 or perc<=90:\n",
    "    print(\"GRADE= B\")\n",
    "elif perc>=60 or perc<=80:\n",
    "    print(\"GRADE= C\")\n",
    "else:\n",
    "    print(\"GRADE= D\")"
   ]
  },
  {
   "cell_type": "code",
   "execution_count": 7,
   "id": "aadbb367-42da-42f6-868e-0dec677c9d84",
   "metadata": {},
   "outputs": [
    {
     "name": "stdin",
     "output_type": "stream",
     "text": [
      "enter a cost price of a bike 89000\n"
     ]
    },
    {
     "name": "stdout",
     "output_type": "stream",
     "text": [
      "tax charged= 10%\n"
     ]
    }
   ],
   "source": [
    "\"\"\"QTS. 2\"\"\"\n",
    "\n",
    "cost=int(input(\"enter a cost price of a bike\"))\n",
    "if cost>100000:\n",
    "    print(\"tax charged= 15%\")\n",
    "elif cost>=50000 or cost<=100000:\n",
    "    print(\"tax charged= 10%\")\n",
    "else:\n",
    "    print(\"tax charged= 5%\")"
   ]
  },
  {
   "cell_type": "code",
   "execution_count": 8,
   "id": "8aa69e23-e9aa-499b-b7de-08ac3c7ca691",
   "metadata": {},
   "outputs": [
    {
     "name": "stdin",
     "output_type": "stream",
     "text": [
      "enter a city name delhi\n"
     ]
    },
    {
     "name": "stdout",
     "output_type": "stream",
     "text": [
      "monument of the city= redfort\n"
     ]
    }
   ],
   "source": [
    "\"\"\"QTS. 3 \"\"\"\n",
    "city=input(\"enter a city name\")\n",
    "if city==\"agra\":\n",
    "    print(\"monument of the city= tajmahal\")\n",
    "elif city==\"delhi\":\n",
    "    print(\"monument of the city= redfort\")\n",
    "elif city==\"jaipur\":\n",
    "    print(\"monument of the city= jal mahal\")\n",
    "    "
   ]
  },
  {
   "cell_type": "code",
   "execution_count": 2,
   "id": "a5eb5911-4081-4129-b551-d3ee15a0be8c",
   "metadata": {},
   "outputs": [
    {
     "name": "stdin",
     "output_type": "stream",
     "text": [
      "enter any integer number 56\n"
     ]
    },
    {
     "name": "stdout",
     "output_type": "stream",
     "text": [
      "1\n"
     ]
    }
   ],
   "source": [
    "\"\"\"QTS.4 \"\"\"\n",
    "count=0\n",
    "rem=0\n",
    "num= int(input(\"enter any integer number\"))\n",
    "while rem<=10:\n",
    "    if num%3!=0:\n",
    "        num= rem\n",
    "        count=count+1\n",
    "    else:\n",
    "        break\n",
    "print(count)    "
   ]
  },
  {
   "cell_type": "code",
   "execution_count": 5,
   "id": "730991ba-3c3f-4d0d-8a39-7a3a0d06d4b3",
   "metadata": {},
   "outputs": [
    {
     "name": "stdin",
     "output_type": "stream",
     "text": [
      "enter any integer value 12\n"
     ]
    },
    {
     "name": "stdout",
     "output_type": "stream",
     "text": [
      "78\n"
     ]
    }
   ],
   "source": [
    "\"\"\" QTS.5 \"\"\"\n",
    "\"\"\" while loop is used to run a block code until a certain condition is met\"\"\"\n",
    "n=int(input(\"enter any integer value\"))\n",
    "sum=0\n",
    "while n>0:\n",
    "    sum=sum+n\n",
    "    n=n-1\n",
    "print(sum)    \n",
    "\n"
   ]
  },
  {
   "cell_type": "code",
   "execution_count": null,
   "id": "574b5657-aa84-48f7-a543-4cdb5032d00a",
   "metadata": {},
   "outputs": [],
   "source": []
  },
  {
   "cell_type": "code",
   "execution_count": 2,
   "id": "9f8d36a8-048d-4ed7-9752-3d64586d7f1b",
   "metadata": {},
   "outputs": [
    {
     "name": "stdout",
     "output_type": "stream",
     "text": [
      "10\n",
      "9\n",
      "8\n",
      "7\n",
      "6\n",
      "5\n",
      "4\n",
      "3\n",
      "2\n",
      "1\n",
      "0\n"
     ]
    }
   ],
   "source": [
    "\"\"\"QTS.7 \"\"\"\n",
    "n= 10\n",
    "while n>=0:\n",
    "    print(n)\n",
    "    n=n-1\n",
    "    "
   ]
  },
  {
   "cell_type": "code",
   "execution_count": null,
   "id": "16055082-8d3d-41d9-8ed7-bc23f364c407",
   "metadata": {},
   "outputs": [],
   "source": []
  },
  {
   "cell_type": "code",
   "execution_count": null,
   "id": "8f7baacd-86f9-4bfa-87c2-b46ef34a01ba",
   "metadata": {},
   "outputs": [],
   "source": []
  }
 ],
 "metadata": {
  "kernelspec": {
   "display_name": "Python 3 (ipykernel)",
   "language": "python",
   "name": "python3"
  },
  "language_info": {
   "codemirror_mode": {
    "name": "ipython",
    "version": 3
   },
   "file_extension": ".py",
   "mimetype": "text/x-python",
   "name": "python",
   "nbconvert_exporter": "python",
   "pygments_lexer": "ipython3",
   "version": "3.10.8"
  }
 },
 "nbformat": 4,
 "nbformat_minor": 5
}
